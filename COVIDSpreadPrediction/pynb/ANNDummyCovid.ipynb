{
 "cells": [
  {
   "cell_type": "code",
   "execution_count": 1,
   "metadata": {},
   "outputs": [],
   "source": [
    "%config IPCompleter.greedy=True"
   ]
  },
  {
   "cell_type": "code",
   "execution_count": 2,
   "metadata": {},
   "outputs": [],
   "source": [
    "import numpy as np\n",
    "import pandas as pd\n",
    "import tensorflow as tf"
   ]
  },
  {
   "cell_type": "code",
   "execution_count": 4,
   "metadata": {},
   "outputs": [
    {
     "data": {
      "text/html": [
       "<div>\n",
       "<style scoped>\n",
       "    .dataframe tbody tr th:only-of-type {\n",
       "        vertical-align: middle;\n",
       "    }\n",
       "\n",
       "    .dataframe tbody tr th {\n",
       "        vertical-align: top;\n",
       "    }\n",
       "\n",
       "    .dataframe thead th {\n",
       "        text-align: right;\n",
       "    }\n",
       "</style>\n",
       "<table border=\"1\" class=\"dataframe\">\n",
       "  <thead>\n",
       "    <tr style=\"text-align: right;\">\n",
       "      <th></th>\n",
       "      <th>Locality</th>\n",
       "      <th>Positive_Adj_Locality</th>\n",
       "      <th>People_travelling_through_infected_area</th>\n",
       "      <th>Aged_more_than_40</th>\n",
       "      <th>People_With_Symptom</th>\n",
       "      <th>Population</th>\n",
       "      <th>Infected</th>\n",
       "    </tr>\n",
       "  </thead>\n",
       "  <tbody>\n",
       "    <tr>\n",
       "      <th>0</th>\n",
       "      <td>A100</td>\n",
       "      <td>0</td>\n",
       "      <td>yes</td>\n",
       "      <td>80</td>\n",
       "      <td>no</td>\n",
       "      <td>3000</td>\n",
       "      <td>no</td>\n",
       "    </tr>\n",
       "    <tr>\n",
       "      <th>1</th>\n",
       "      <td>B100</td>\n",
       "      <td>100</td>\n",
       "      <td>yes</td>\n",
       "      <td>100</td>\n",
       "      <td>yes</td>\n",
       "      <td>5000</td>\n",
       "      <td>yes</td>\n",
       "    </tr>\n",
       "    <tr>\n",
       "      <th>2</th>\n",
       "      <td>C100</td>\n",
       "      <td>10</td>\n",
       "      <td>no</td>\n",
       "      <td>30</td>\n",
       "      <td>yes</td>\n",
       "      <td>6000</td>\n",
       "      <td>no</td>\n",
       "    </tr>\n",
       "    <tr>\n",
       "      <th>3</th>\n",
       "      <td>D100</td>\n",
       "      <td>200</td>\n",
       "      <td>yes</td>\n",
       "      <td>60</td>\n",
       "      <td>no</td>\n",
       "      <td>4000</td>\n",
       "      <td>yes</td>\n",
       "    </tr>\n",
       "    <tr>\n",
       "      <th>4</th>\n",
       "      <td>E100</td>\n",
       "      <td>5</td>\n",
       "      <td>no</td>\n",
       "      <td>50</td>\n",
       "      <td>no</td>\n",
       "      <td>2000</td>\n",
       "      <td>no</td>\n",
       "    </tr>\n",
       "  </tbody>\n",
       "</table>\n",
       "</div>"
      ],
      "text/plain": [
       "  Locality  Positive_Adj_Locality People_travelling_through_infected_area  \\\n",
       "0     A100                      0                                     yes   \n",
       "1     B100                    100                                     yes   \n",
       "2     C100                     10                                      no   \n",
       "3     D100                    200                                     yes   \n",
       "4     E100                      5                                      no   \n",
       "\n",
       "   Aged_more_than_40 People_With_Symptom  Population Infected  \n",
       "0                 80                  no        3000       no  \n",
       "1                100                 yes        5000      yes  \n",
       "2                 30                 yes        6000       no  \n",
       "3                 60                  no        4000      yes  \n",
       "4                 50                  no        2000       no  "
      ]
     },
     "execution_count": 4,
     "metadata": {},
     "output_type": "execute_result"
    }
   ],
   "source": [
    "features = pd.read_csv('Dummy_Covid_Locality_Data.csv')\n",
    "features.head()"
   ]
  },
  {
   "cell_type": "markdown",
   "metadata": {},
   "source": [
    "# Drop column pdays from dataframe"
   ]
  },
  {
   "cell_type": "code",
   "execution_count": 5,
   "metadata": {},
   "outputs": [
    {
     "data": {
      "text/html": [
       "<div>\n",
       "<style scoped>\n",
       "    .dataframe tbody tr th:only-of-type {\n",
       "        vertical-align: middle;\n",
       "    }\n",
       "\n",
       "    .dataframe tbody tr th {\n",
       "        vertical-align: top;\n",
       "    }\n",
       "\n",
       "    .dataframe thead th {\n",
       "        text-align: right;\n",
       "    }\n",
       "</style>\n",
       "<table border=\"1\" class=\"dataframe\">\n",
       "  <thead>\n",
       "    <tr style=\"text-align: right;\">\n",
       "      <th></th>\n",
       "      <th>Positive_Adj_Locality</th>\n",
       "      <th>People_travelling_through_infected_area</th>\n",
       "      <th>Aged_more_than_40</th>\n",
       "      <th>People_With_Symptom</th>\n",
       "      <th>Population</th>\n",
       "      <th>Infected</th>\n",
       "    </tr>\n",
       "  </thead>\n",
       "  <tbody>\n",
       "    <tr>\n",
       "      <th>0</th>\n",
       "      <td>0</td>\n",
       "      <td>yes</td>\n",
       "      <td>80</td>\n",
       "      <td>no</td>\n",
       "      <td>3000</td>\n",
       "      <td>no</td>\n",
       "    </tr>\n",
       "    <tr>\n",
       "      <th>1</th>\n",
       "      <td>100</td>\n",
       "      <td>yes</td>\n",
       "      <td>100</td>\n",
       "      <td>yes</td>\n",
       "      <td>5000</td>\n",
       "      <td>yes</td>\n",
       "    </tr>\n",
       "    <tr>\n",
       "      <th>2</th>\n",
       "      <td>10</td>\n",
       "      <td>no</td>\n",
       "      <td>30</td>\n",
       "      <td>yes</td>\n",
       "      <td>6000</td>\n",
       "      <td>no</td>\n",
       "    </tr>\n",
       "    <tr>\n",
       "      <th>3</th>\n",
       "      <td>200</td>\n",
       "      <td>yes</td>\n",
       "      <td>60</td>\n",
       "      <td>no</td>\n",
       "      <td>4000</td>\n",
       "      <td>yes</td>\n",
       "    </tr>\n",
       "    <tr>\n",
       "      <th>4</th>\n",
       "      <td>5</td>\n",
       "      <td>no</td>\n",
       "      <td>50</td>\n",
       "      <td>no</td>\n",
       "      <td>2000</td>\n",
       "      <td>no</td>\n",
       "    </tr>\n",
       "  </tbody>\n",
       "</table>\n",
       "</div>"
      ],
      "text/plain": [
       "   Positive_Adj_Locality People_travelling_through_infected_area  \\\n",
       "0                      0                                     yes   \n",
       "1                    100                                     yes   \n",
       "2                     10                                      no   \n",
       "3                    200                                     yes   \n",
       "4                      5                                      no   \n",
       "\n",
       "   Aged_more_than_40 People_With_Symptom  Population Infected  \n",
       "0                 80                  no        3000       no  \n",
       "1                100                 yes        5000      yes  \n",
       "2                 30                 yes        6000       no  \n",
       "3                 60                  no        4000      yes  \n",
       "4                 50                  no        2000       no  "
      ]
     },
     "execution_count": 5,
     "metadata": {},
     "output_type": "execute_result"
    }
   ],
   "source": [
    "features = features.drop(['Locality'], axis=1)\n",
    "features.head()"
   ]
  },
  {
   "cell_type": "code",
   "execution_count": 7,
   "metadata": {},
   "outputs": [],
   "source": [
    "x = features.iloc[:, :-1].values\n",
    "y = features.iloc[:, -1].values"
   ]
  },
  {
   "cell_type": "code",
   "execution_count": 8,
   "metadata": {},
   "outputs": [
    {
     "name": "stdout",
     "output_type": "stream",
     "text": [
      "[[0 'yes' 80 'no' 3000]\n",
      " [100 'yes' 100 'yes' 5000]\n",
      " [10 'no' 30 'yes' 6000]\n",
      " [200 'yes' 60 'no' 4000]\n",
      " [5 'no' 50 'no' 2000]\n",
      " [0 'yes' 86 'yes' 7000]\n",
      " [500 'yes' 70 'yes' 6987]\n",
      " [30 'no' 100 'no' 3467]\n",
      " [487 'yes' 240 'yes' 5698]\n",
      " [20 'no' 120 'no' 2345]\n",
      " [0 'no' 40 'yes' 560]\n",
      " [987 'yes' 23 'yes' 2345]\n",
      " [345 'yes' 46 'no' 987]\n",
      " [878 'no' 31 'no' 6897]\n",
      " [0 'no' 150 'yes' 4567]\n",
      " [0 'no' 84 'no' 340]\n",
      " [345 'yes' 56 'yes' 3678]\n",
      " [30 'yes' 76 'no' 936]\n",
      " [400 'no' 87 'yes' 5634]\n",
      " [10 'yes' 90 'yes' 4387]\n",
      " [0 'no' 45 'no' 4136]\n",
      " [90 'yes' 69 'yes' 378]\n",
      " [600 'yes' 21 'no' 4895]\n",
      " [432 'yes' 80 'yes' 7563]\n",
      " [56 'no' 35 'no' 234]\n",
      " [78 'no' 59 'no' 956]\n",
      " [300 'yes' 320 'no' 4587]\n",
      " [456 'yes' 140 'yes' 4987]\n",
      " [987 'yes' 130 'no' 5786]\n",
      " [1200 'yes' 283 'yes' 5498]\n",
      " [459 'no' 303 'no' 6543]\n",
      " [0 'yes' 25 'no' 500]\n",
      " [0 'yes' 36 'no' 1987]\n",
      " [0 'no' 54 'no' 2378]\n",
      " [567 'yes' 67 'no' 456]\n",
      " [867 'yes' 28 'no' 128]\n",
      " [0 'no' 129 'yes' 982]\n",
      " [0 'no' 435 'no' 2545]\n",
      " [0 'yes' 567 'no' 546]\n",
      " [987 'no' 254 'no' 762]\n",
      " [0 'no' 134 'yes' 4598]\n",
      " [0 'no' 50 'yes' 210]\n",
      " [0 'yes' 25 'yes' 865]\n",
      " [0 'yes' 58 'no' 3298]\n",
      " [458 'no' 87 'no' 3897]\n",
      " [984 'yes' 431 'yes' 1458]\n",
      " [0 'no' 365 'no' 964]\n",
      " [0 'yes' 65 'no' 328]\n",
      " [0 'yes' 72 'no' 5687]\n",
      " [0 'yes' 235 'no' 2167]\n",
      " [345 'no' 94 'no' 430]\n",
      " [265 'no' 29 'no' 764]\n",
      " [345 'yes' 46 'no' 987]\n",
      " [878 'no' 31 'no' 6897]\n",
      " [0 'no' 150 'yes' 4567]\n",
      " [0 'no' 84 'no' 340]\n",
      " [345 'yes' 56 'yes' 3678]\n",
      " [30 'yes' 76 'no' 936]\n",
      " [400 'no' 87 'yes' 5634]\n",
      " [10 'yes' 90 'yes' 4387]\n",
      " [0 'no' 45 'no' 4136]\n",
      " [90 'yes' 69 'yes' 378]\n",
      " [600 'yes' 21 'no' 4895]\n",
      " [432 'yes' 80 'yes' 7563]]\n",
      "['no' 'yes' 'no' 'yes' 'no' 'no' 'yes' 'no' 'yes' 'yes' 'no' 'yes' 'no'\n",
      " 'yes' 'no' 'no' 'no' 'no' 'no' 'yes' 'no' 'no' 'yes' 'yes' 'no' 'no' 'no'\n",
      " 'no' 'no' 'yes' 'no' 'no' 'no' 'no' 'no' 'yes' 'no' 'no' 'no' 'yes' 'no'\n",
      " 'no' 'no' 'no' 'no' 'no' 'yes' 'no' 'no' 'no' 'no' 'no' 'no' 'yes' 'no'\n",
      " 'no' 'no' 'no' 'no' 'no' 'no' 'no' 'no' 'no']\n"
     ]
    }
   ],
   "source": [
    "print(x)\n",
    "print(y)"
   ]
  },
  {
   "cell_type": "markdown",
   "metadata": {},
   "source": [
    "# Data pre-processing"
   ]
  },
  {
   "cell_type": "markdown",
   "metadata": {},
   "source": [
    "Label encoding of y"
   ]
  },
  {
   "cell_type": "code",
   "execution_count": 9,
   "metadata": {},
   "outputs": [
    {
     "name": "stdout",
     "output_type": "stream",
     "text": [
      "[0 1 0 1 0 0 1 0 1 1 0 1 0 1 0 0 0 0 0 1 0 0 1 1 0 0 0 0 0 1 0 0 0 0 0 1 0\n",
      " 0 0 1 0 0 0 0 0 0 1 0 0 0 0 0 0 1 0 0 0 0 0 0 0 0 0 0]\n"
     ]
    }
   ],
   "source": [
    "from sklearn.preprocessing import LabelEncoder\n",
    "le = LabelEncoder()\n",
    "y[:] = le.fit_transform(y[:])\n",
    "print(y)"
   ]
  },
  {
   "cell_type": "markdown",
   "metadata": {},
   "source": [
    "Label encoding of marital status"
   ]
  },
  {
   "cell_type": "code",
   "execution_count": 11,
   "metadata": {},
   "outputs": [
    {
     "name": "stdout",
     "output_type": "stream",
     "text": [
      "[[0 1 80 'no' 3000]\n",
      " [100 1 100 'yes' 5000]\n",
      " [10 0 30 'yes' 6000]\n",
      " [200 1 60 'no' 4000]\n",
      " [5 0 50 'no' 2000]\n",
      " [0 1 86 'yes' 7000]\n",
      " [500 1 70 'yes' 6987]\n",
      " [30 0 100 'no' 3467]\n",
      " [487 1 240 'yes' 5698]\n",
      " [20 0 120 'no' 2345]\n",
      " [0 0 40 'yes' 560]\n",
      " [987 1 23 'yes' 2345]\n",
      " [345 1 46 'no' 987]\n",
      " [878 0 31 'no' 6897]\n",
      " [0 0 150 'yes' 4567]\n",
      " [0 0 84 'no' 340]\n",
      " [345 1 56 'yes' 3678]\n",
      " [30 1 76 'no' 936]\n",
      " [400 0 87 'yes' 5634]\n",
      " [10 1 90 'yes' 4387]\n",
      " [0 0 45 'no' 4136]\n",
      " [90 1 69 'yes' 378]\n",
      " [600 1 21 'no' 4895]\n",
      " [432 1 80 'yes' 7563]\n",
      " [56 0 35 'no' 234]\n",
      " [78 0 59 'no' 956]\n",
      " [300 1 320 'no' 4587]\n",
      " [456 1 140 'yes' 4987]\n",
      " [987 1 130 'no' 5786]\n",
      " [1200 1 283 'yes' 5498]\n",
      " [459 0 303 'no' 6543]\n",
      " [0 1 25 'no' 500]\n",
      " [0 1 36 'no' 1987]\n",
      " [0 0 54 'no' 2378]\n",
      " [567 1 67 'no' 456]\n",
      " [867 1 28 'no' 128]\n",
      " [0 0 129 'yes' 982]\n",
      " [0 0 435 'no' 2545]\n",
      " [0 1 567 'no' 546]\n",
      " [987 0 254 'no' 762]\n",
      " [0 0 134 'yes' 4598]\n",
      " [0 0 50 'yes' 210]\n",
      " [0 1 25 'yes' 865]\n",
      " [0 1 58 'no' 3298]\n",
      " [458 0 87 'no' 3897]\n",
      " [984 1 431 'yes' 1458]\n",
      " [0 0 365 'no' 964]\n",
      " [0 1 65 'no' 328]\n",
      " [0 1 72 'no' 5687]\n",
      " [0 1 235 'no' 2167]\n",
      " [345 0 94 'no' 430]\n",
      " [265 0 29 'no' 764]\n",
      " [345 1 46 'no' 987]\n",
      " [878 0 31 'no' 6897]\n",
      " [0 0 150 'yes' 4567]\n",
      " [0 0 84 'no' 340]\n",
      " [345 1 56 'yes' 3678]\n",
      " [30 1 76 'no' 936]\n",
      " [400 0 87 'yes' 5634]\n",
      " [10 1 90 'yes' 4387]\n",
      " [0 0 45 'no' 4136]\n",
      " [90 1 69 'yes' 378]\n",
      " [600 1 21 'no' 4895]\n",
      " [432 1 80 'yes' 7563]]\n"
     ]
    }
   ],
   "source": [
    "x[:, 1] = le.fit_transform(x[:, 1])\n",
    "print(x)"
   ]
  },
  {
   "cell_type": "markdown",
   "metadata": {},
   "source": [
    "Label encoding of education"
   ]
  },
  {
   "cell_type": "code",
   "execution_count": 12,
   "metadata": {},
   "outputs": [
    {
     "name": "stdout",
     "output_type": "stream",
     "text": [
      "[[0 1 80 0 3000]\n",
      " [100 1 100 1 5000]\n",
      " [10 0 30 1 6000]\n",
      " [200 1 60 0 4000]\n",
      " [5 0 50 0 2000]\n",
      " [0 1 86 1 7000]\n",
      " [500 1 70 1 6987]\n",
      " [30 0 100 0 3467]\n",
      " [487 1 240 1 5698]\n",
      " [20 0 120 0 2345]\n",
      " [0 0 40 1 560]\n",
      " [987 1 23 1 2345]\n",
      " [345 1 46 0 987]\n",
      " [878 0 31 0 6897]\n",
      " [0 0 150 1 4567]\n",
      " [0 0 84 0 340]\n",
      " [345 1 56 1 3678]\n",
      " [30 1 76 0 936]\n",
      " [400 0 87 1 5634]\n",
      " [10 1 90 1 4387]\n",
      " [0 0 45 0 4136]\n",
      " [90 1 69 1 378]\n",
      " [600 1 21 0 4895]\n",
      " [432 1 80 1 7563]\n",
      " [56 0 35 0 234]\n",
      " [78 0 59 0 956]\n",
      " [300 1 320 0 4587]\n",
      " [456 1 140 1 4987]\n",
      " [987 1 130 0 5786]\n",
      " [1200 1 283 1 5498]\n",
      " [459 0 303 0 6543]\n",
      " [0 1 25 0 500]\n",
      " [0 1 36 0 1987]\n",
      " [0 0 54 0 2378]\n",
      " [567 1 67 0 456]\n",
      " [867 1 28 0 128]\n",
      " [0 0 129 1 982]\n",
      " [0 0 435 0 2545]\n",
      " [0 1 567 0 546]\n",
      " [987 0 254 0 762]\n",
      " [0 0 134 1 4598]\n",
      " [0 0 50 1 210]\n",
      " [0 1 25 1 865]\n",
      " [0 1 58 0 3298]\n",
      " [458 0 87 0 3897]\n",
      " [984 1 431 1 1458]\n",
      " [0 0 365 0 964]\n",
      " [0 1 65 0 328]\n",
      " [0 1 72 0 5687]\n",
      " [0 1 235 0 2167]\n",
      " [345 0 94 0 430]\n",
      " [265 0 29 0 764]\n",
      " [345 1 46 0 987]\n",
      " [878 0 31 0 6897]\n",
      " [0 0 150 1 4567]\n",
      " [0 0 84 0 340]\n",
      " [345 1 56 1 3678]\n",
      " [30 1 76 0 936]\n",
      " [400 0 87 1 5634]\n",
      " [10 1 90 1 4387]\n",
      " [0 0 45 0 4136]\n",
      " [90 1 69 1 378]\n",
      " [600 1 21 0 4895]\n",
      " [432 1 80 1 7563]]\n"
     ]
    }
   ],
   "source": [
    "x[:, 3] = le.fit_transform(x[:, 3])\n",
    "print(x)"
   ]
  },
  {
   "cell_type": "markdown",
   "metadata": {},
   "source": [
    "Label encoding of other loan status"
   ]
  },
  {
   "cell_type": "code",
   "execution_count": null,
   "metadata": {},
   "outputs": [],
   "source": []
  },
  {
   "cell_type": "markdown",
   "metadata": {},
   "source": [
    "Label encoding of contact"
   ]
  },
  {
   "cell_type": "code",
   "execution_count": null,
   "metadata": {},
   "outputs": [],
   "source": []
  },
  {
   "cell_type": "markdown",
   "metadata": {},
   "source": [
    "Label encoding of housing loan status"
   ]
  },
  {
   "cell_type": "code",
   "execution_count": null,
   "metadata": {},
   "outputs": [],
   "source": []
  },
  {
   "cell_type": "markdown",
   "metadata": {},
   "source": [
    "Label encoding of credit default"
   ]
  },
  {
   "cell_type": "code",
   "execution_count": null,
   "metadata": {},
   "outputs": [],
   "source": []
  },
  {
   "cell_type": "markdown",
   "metadata": {},
   "source": [
    "Label encoding of poutcome"
   ]
  },
  {
   "cell_type": "code",
   "execution_count": null,
   "metadata": {},
   "outputs": [],
   "source": []
  },
  {
   "cell_type": "markdown",
   "metadata": {},
   "source": [
    "# One hot encoding of feature data"
   ]
  },
  {
   "cell_type": "markdown",
   "metadata": {},
   "source": [
    "Job Type"
   ]
  },
  {
   "cell_type": "code",
   "execution_count": null,
   "metadata": {},
   "outputs": [],
   "source": []
  },
  {
   "cell_type": "code",
   "execution_count": null,
   "metadata": {},
   "outputs": [],
   "source": []
  },
  {
   "cell_type": "markdown",
   "metadata": {},
   "source": [
    "Month"
   ]
  },
  {
   "cell_type": "code",
   "execution_count": null,
   "metadata": {},
   "outputs": [],
   "source": []
  },
  {
   "cell_type": "code",
   "execution_count": null,
   "metadata": {},
   "outputs": [],
   "source": []
  },
  {
   "cell_type": "markdown",
   "metadata": {},
   "source": [
    "# Split into train and test set"
   ]
  },
  {
   "cell_type": "code",
   "execution_count": 13,
   "metadata": {},
   "outputs": [],
   "source": [
    "from sklearn.model_selection import train_test_split\n",
    "x_train, x_test, y_train, y_test = train_test_split(x, y, test_size=0.2, random_state=0)"
   ]
  },
  {
   "cell_type": "code",
   "execution_count": 14,
   "metadata": {},
   "outputs": [
    {
     "name": "stdout",
     "output_type": "stream",
     "text": [
      "[[987 1 130 0 5786]\n",
      " [0 0 150 1 4567]\n",
      " [5 0 50 0 2000]\n",
      " [0 0 40 1 560]\n",
      " [867 1 28 0 128]\n",
      " [345 1 46 0 987]\n",
      " [0 0 365 0 964]\n",
      " [459 0 303 0 6543]\n",
      " [30 0 100 0 3467]\n",
      " [0 0 150 1 4567]\n",
      " [456 1 140 1 4987]\n",
      " [432 1 80 1 7563]\n",
      " [0 0 84 0 340]\n",
      " [0 0 50 1 210]\n",
      " [0 1 25 1 865]\n",
      " [400 0 87 1 5634]\n",
      " [400 0 87 1 5634]\n",
      " [0 0 45 0 4136]\n",
      " [0 1 36 0 1987]\n",
      " [0 0 84 0 340]\n",
      " [0 1 86 1 7000]\n",
      " [345 1 56 1 3678]\n",
      " [0 0 45 0 4136]\n",
      " [345 1 56 1 3678]\n",
      " [487 1 240 1 5698]\n",
      " [878 0 31 0 6897]\n",
      " [78 0 59 0 956]\n",
      " [0 0 435 0 2545]\n",
      " [30 1 76 0 936]\n",
      " [0 1 72 0 5687]\n",
      " [265 0 29 0 764]\n",
      " [30 1 76 0 936]\n",
      " [0 1 567 0 546]\n",
      " [100 1 100 1 5000]\n",
      " [345 1 46 0 987]\n",
      " [0 1 235 0 2167]\n",
      " [56 0 35 0 234]\n",
      " [500 1 70 1 6987]\n",
      " [432 1 80 1 7563]\n",
      " [0 0 129 1 982]\n",
      " [345 0 94 0 430]\n",
      " [90 1 69 1 378]\n",
      " [10 1 90 1 4387]\n",
      " [20 0 120 0 2345]\n",
      " [987 0 254 0 762]\n",
      " [10 1 90 1 4387]\n",
      " [200 1 60 0 4000]\n",
      " [0 1 80 0 3000]\n",
      " [878 0 31 0 6897]\n",
      " [0 1 65 0 328]\n",
      " [458 0 87 0 3897]]\n",
      "[[984 1 431 1 1458]\n",
      " [1200 1 283 1 5498]\n",
      " [0 1 58 0 3298]\n",
      " [90 1 69 1 378]\n",
      " [567 1 67 0 456]\n",
      " [0 0 54 0 2378]\n",
      " [0 1 25 0 500]\n",
      " [0 0 134 1 4598]\n",
      " [300 1 320 0 4587]\n",
      " [600 1 21 0 4895]\n",
      " [600 1 21 0 4895]\n",
      " [10 0 30 1 6000]\n",
      " [987 1 23 1 2345]]\n",
      "[0 0 0 0 1 0 1 0 0 0 0 0 0 0 0 0 0 0 0 0 0 0 0 0 1 1 0 0 0 0 0 0 0 1 0 0 0\n",
      " 1 1 0 0 0 1 1 1 0 1 0 1 0 0]\n",
      "[0 1 0 0 0 0 0 0 0 0 1 0 1]\n"
     ]
    }
   ],
   "source": [
    "print(x_train)\n",
    "print(x_test)\n",
    "print(y_train)\n",
    "print(y_test)"
   ]
  },
  {
   "cell_type": "markdown",
   "metadata": {},
   "source": [
    "# Feature scaling of train and test set"
   ]
  },
  {
   "cell_type": "code",
   "execution_count": 15,
   "metadata": {},
   "outputs": [
    {
     "name": "stderr",
     "output_type": "stream",
     "text": [
      "D:\\Anaconda\\lib\\site-packages\\sklearn\\utils\\validation.py:595: DataConversionWarning: Data with input dtype object was converted to float64 by StandardScaler.\n",
      "  warnings.warn(msg, DataConversionWarning)\n",
      "D:\\Anaconda\\lib\\site-packages\\sklearn\\utils\\validation.py:595: DataConversionWarning: Data with input dtype object was converted to float64 by StandardScaler.\n",
      "  warnings.warn(msg, DataConversionWarning)\n",
      "D:\\Anaconda\\lib\\site-packages\\sklearn\\utils\\validation.py:595: DataConversionWarning: Data with input dtype object was converted to float64 by StandardScaler.\n",
      "  warnings.warn(msg, DataConversionWarning)\n"
     ]
    }
   ],
   "source": [
    "from sklearn.preprocessing import StandardScaler\n",
    "\n",
    "sc = StandardScaler()\n",
    "x_train = sc.fit_transform(x_train)\n",
    "x_test = sc.transform(x_test)"
   ]
  },
  {
   "cell_type": "code",
   "execution_count": 16,
   "metadata": {},
   "outputs": [
    {
     "name": "stdout",
     "output_type": "stream",
     "text": [
      "[[ 2.63928211  0.98058068  0.18222329 -0.80321933  1.11261651]\n",
      " [-0.76137685 -1.0198039   0.37053915  1.24498996  0.60263549]\n",
      " [-0.7441496  -1.0198039  -0.57104016 -0.80321933 -0.47129501]\n",
      " [-0.76137685 -1.0198039  -0.66519809  1.24498996 -1.07373363]\n",
      " [ 2.22582813  0.98058068 -0.77818761 -0.80321933 -1.25446521]\n",
      " [ 0.42730333  0.98058068 -0.60870333 -0.80321933 -0.89509385]\n",
      " [-0.76137685 -1.0198039   2.39493467 -0.80321933 -0.90471613]\n",
      " [ 0.82008461 -1.0198039   1.8111555  -0.80321933  1.42931515]\n",
      " [-0.65801335 -1.0198039  -0.1002505  -0.80321933  0.14243933]\n",
      " [-0.76137685 -1.0198039   0.37053915  1.24498996  0.60263549]\n",
      " [ 0.80974826  0.98058068  0.27638122  1.24498996  0.77834675]\n",
      " [ 0.72705747  0.98058068 -0.28856637  1.24498996  1.8560425 ]\n",
      " [-0.76137685 -1.0198039  -0.25090319 -0.80321933 -1.16577286]\n",
      " [-0.76137685 -1.0198039  -0.57104016  1.24498996 -1.22015968]\n",
      " [-0.76137685  0.98058068 -0.80643499  1.24498996 -0.94613378]\n",
      " [ 0.61680307 -1.0198039  -0.22265581  1.24498996  1.04902577]\n",
      " [ 0.61680307 -1.0198039  -0.22265581  1.24498996  1.04902577]\n",
      " [-0.76137685 -1.0198039  -0.61811912 -0.80321933  0.42232227]\n",
      " [-0.76137685  0.98058068 -0.70286126 -0.80321933 -0.4767337 ]\n",
      " [-0.76137685 -1.0198039  -0.25090319 -0.80321933 -1.16577286]\n",
      " [-0.76137685  0.98058068 -0.23207161  1.24498996  1.62050574]\n",
      " [ 0.42730333  0.98058068 -0.5145454   1.24498996  0.23071332]\n",
      " [-0.76137685 -1.0198039  -0.61811912 -0.80321933  0.42232227]\n",
      " [ 0.42730333  0.98058068 -0.5145454   1.24498996  0.23071332]\n",
      " [ 0.91655721  0.98058068  1.21796053  1.24498996  1.07580082]\n",
      " [ 2.26372808 -1.0198039  -0.74994023 -0.80321933  1.57741464]\n",
      " [-0.49263176 -1.0198039  -0.48629802 -0.80321933 -0.90806301]\n",
      " [-0.76137685 -1.0198039   3.05404019 -0.80321933 -0.24328873]\n",
      " [-0.65801335  0.98058068 -0.32622954 -0.80321933 -0.91643021]\n",
      " [-0.76137685  0.98058068 -0.36389271 -0.80321933  1.07119886]\n",
      " [ 0.15166735 -1.0198039  -0.76877181 -0.80321933 -0.98838816]\n",
      " [-0.65801335  0.98058068 -0.32622954 -0.80321933 -0.91643021]\n",
      " [-0.76137685  0.98058068  4.29692488 -0.80321933 -1.07959067]\n",
      " [-0.41683187  0.98058068 -0.1002505   1.24498996  0.78378544]\n",
      " [ 0.42730333  0.98058068 -0.60870333 -0.80321933 -0.89509385]\n",
      " [-0.76137685  0.98058068  1.17088157 -0.80321933 -0.40142887]\n",
      " [-0.56843166 -1.0198039  -0.71227706 -0.80321933 -1.21011904]\n",
      " [ 0.96134805  0.98058068 -0.3827243   1.24498996  1.61506705]\n",
      " [ 0.72705747  0.98058068 -0.28856637  1.24498996  1.8560425 ]\n",
      " [-0.76137685 -1.0198039   0.1728075   1.24498996 -0.89718565]\n",
      " [ 0.42730333 -1.0198039  -0.15674526 -0.80321933 -1.12812045]\n",
      " [-0.45128637  0.98058068 -0.39214009  1.24498996 -1.14987518]\n",
      " [-0.72692235  0.98058068 -0.19440843  1.24498996  0.52733066]\n",
      " [-0.69246785 -1.0198039   0.08806536 -0.80321933 -0.32696076]\n",
      " [ 2.63928211 -1.0198039   1.34978164 -0.80321933 -0.98922488]\n",
      " [-0.72692235  0.98058068 -0.19440843  1.24498996  0.52733066]\n",
      " [-0.07228689  0.98058068 -0.47688223 -0.80321933  0.36542529]\n",
      " [-0.76137685  0.98058068 -0.28856637 -0.80321933 -0.05293486]\n",
      " [ 2.26372808 -1.0198039  -0.74994023 -0.80321933  1.57741464]\n",
      " [-0.76137685  0.98058068 -0.42980326 -0.80321933 -1.17079318]\n",
      " [ 0.81663916 -1.0198039  -0.22265581 -0.80321933  0.32233419]]\n",
      "[[ 2.62894576  0.98058068  3.01637702  1.24498996 -0.69804621]\n",
      " [ 3.37316291  0.98058068  1.62283964  1.24498996  0.99212879]\n",
      " [-0.76137685  0.98058068 -0.49571381 -0.80321933  0.07173646]\n",
      " [-0.45128637  0.98058068 -0.39214009  1.24498996 -1.14987518]\n",
      " [ 1.19219319  0.98058068 -0.41097168 -0.80321933 -1.11724309]\n",
      " [-0.76137685 -1.0198039  -0.53337699 -0.80321933 -0.31315488]\n",
      " [-0.76137685  0.98058068 -0.80643499 -0.80321933 -1.09883524]\n",
      " [-0.76137685 -1.0198039   0.21988646  1.24498996  0.61560466]\n",
      " [ 0.27225809  0.98058068  1.97122398 -0.80321933  0.61100269]\n",
      " [ 1.30589303  0.98058068 -0.84409816 -0.80321933  0.73985762]\n",
      " [ 1.30589303  0.98058068 -0.84409816 -0.80321933  0.73985762]\n",
      " [-0.72692235 -1.0198039  -0.75935602  1.24498996  1.20214559]\n",
      " [ 2.63928211  0.98058068 -0.82526657  1.24498996 -0.32696076]]\n"
     ]
    }
   ],
   "source": [
    "print(x_train)\n",
    "print(x_test)"
   ]
  },
  {
   "cell_type": "markdown",
   "metadata": {},
   "source": [
    "# Building ANN"
   ]
  },
  {
   "cell_type": "markdown",
   "metadata": {},
   "source": [
    "Define ANN"
   ]
  },
  {
   "cell_type": "code",
   "execution_count": 17,
   "metadata": {},
   "outputs": [],
   "source": [
    "ann = tf.keras.models.Sequential()"
   ]
  },
  {
   "cell_type": "markdown",
   "metadata": {},
   "source": [
    "Add Input/1st Hidden layer"
   ]
  },
  {
   "cell_type": "code",
   "execution_count": 18,
   "metadata": {},
   "outputs": [],
   "source": [
    "ann.add(tf.keras.layers.Dense(units=30, activation='relu'))"
   ]
  },
  {
   "cell_type": "markdown",
   "metadata": {},
   "source": [
    "Add 2nd Hidden layer"
   ]
  },
  {
   "cell_type": "code",
   "execution_count": 19,
   "metadata": {},
   "outputs": [],
   "source": [
    "ann.add(tf.keras.layers.Dense(units=6, activation='relu'))"
   ]
  },
  {
   "cell_type": "markdown",
   "metadata": {},
   "source": [
    "Add output layer"
   ]
  },
  {
   "cell_type": "code",
   "execution_count": 20,
   "metadata": {},
   "outputs": [],
   "source": [
    "ann.add(tf.keras.layers.Dense(units=1, activation='sigmoid'))"
   ]
  },
  {
   "cell_type": "markdown",
   "metadata": {},
   "source": [
    "Compile ANN using Schocastic Gradiant optimizer (adam)"
   ]
  },
  {
   "cell_type": "code",
   "execution_count": 21,
   "metadata": {},
   "outputs": [
    {
     "name": "stdout",
     "output_type": "stream",
     "text": [
      "WARNING:tensorflow:From D:\\Anaconda\\lib\\site-packages\\tensorflow\\python\\ops\\resource_variable_ops.py:435: colocate_with (from tensorflow.python.framework.ops) is deprecated and will be removed in a future version.\n",
      "Instructions for updating:\n",
      "Colocations handled automatically by placer.\n"
     ]
    }
   ],
   "source": [
    "ann.compile(optimizer='adam', loss='binary_crossentropy', metrics=['accuracy'])"
   ]
  },
  {
   "cell_type": "markdown",
   "metadata": {},
   "source": [
    "# Fit/Train ANN"
   ]
  },
  {
   "cell_type": "code",
   "execution_count": 22,
   "metadata": {},
   "outputs": [
    {
     "name": "stdout",
     "output_type": "stream",
     "text": [
      "WARNING:tensorflow:From D:\\Anaconda\\lib\\site-packages\\tensorflow\\python\\ops\\math_ops.py:3066: to_int32 (from tensorflow.python.ops.math_ops) is deprecated and will be removed in a future version.\n",
      "Instructions for updating:\n",
      "Use tf.cast instead.\n",
      "Epoch 1/100\n",
      "51/51 [==============================] - 1s 24ms/sample - loss: 0.8495 - acc: 0.2353\n",
      "Epoch 2/100\n",
      "51/51 [==============================] - 0s 181us/sample - loss: 0.8335 - acc: 0.2353\n",
      "Epoch 3/100\n",
      "51/51 [==============================] - 0s 232us/sample - loss: 0.8177 - acc: 0.2353\n",
      "Epoch 4/100\n",
      "51/51 [==============================] - 0s 0s/sample - loss: 0.8064 - acc: 0.2353\n",
      "Epoch 5/100\n",
      "51/51 [==============================] - 0s 121us/sample - loss: 0.7945 - acc: 0.2353\n",
      "Epoch 6/100\n",
      "51/51 [==============================] - 0s 186us/sample - loss: 0.7829 - acc: 0.2353\n",
      "Epoch 7/100\n",
      "51/51 [==============================] - 0s 186us/sample - loss: 0.7721 - acc: 0.2353\n",
      "Epoch 8/100\n",
      "51/51 [==============================] - 0s 144us/sample - loss: 0.7618 - acc: 0.2353\n",
      "Epoch 9/100\n",
      "51/51 [==============================] - 0s 100us/sample - loss: 0.7525 - acc: 0.2353\n",
      "Epoch 10/100\n",
      "51/51 [==============================] - 0s 197us/sample - loss: 0.7444 - acc: 0.2157\n",
      "Epoch 11/100\n",
      "51/51 [==============================] - 0s 199us/sample - loss: 0.7362 - acc: 0.2549\n",
      "Epoch 12/100\n",
      "51/51 [==============================] - 0s 112us/sample - loss: 0.7300 - acc: 0.3137\n",
      "Epoch 13/100\n",
      "51/51 [==============================] - 0s 143us/sample - loss: 0.7233 - acc: 0.3529\n",
      "Epoch 14/100\n",
      "51/51 [==============================] - 0s 108us/sample - loss: 0.7179 - acc: 0.3725\n",
      "Epoch 15/100\n",
      "51/51 [==============================] - 0s 105us/sample - loss: 0.7123 - acc: 0.3725\n",
      "Epoch 16/100\n",
      "51/51 [==============================] - ETA: 0s - loss: 0.6772 - acc: 0.531 - 0s 121us/sample - loss: 0.7068 - acc: 0.4118\n",
      "Epoch 17/100\n",
      "51/51 [==============================] - 0s 104us/sample - loss: 0.7033 - acc: 0.4510\n",
      "Epoch 18/100\n",
      "51/51 [==============================] - 0s 133us/sample - loss: 0.6990 - acc: 0.4510\n",
      "Epoch 19/100\n",
      "51/51 [==============================] - 0s 185us/sample - loss: 0.6960 - acc: 0.4510\n",
      "Epoch 20/100\n",
      "51/51 [==============================] - 0s 79us/sample - loss: 0.6934 - acc: 0.4902\n",
      "Epoch 21/100\n",
      "51/51 [==============================] - 0s 138us/sample - loss: 0.6909 - acc: 0.5098\n",
      "Epoch 22/100\n",
      "51/51 [==============================] - 0s 143us/sample - loss: 0.6887 - acc: 0.5686\n",
      "Epoch 23/100\n",
      "51/51 [==============================] - 0s 105us/sample - loss: 0.6865 - acc: 0.6078\n",
      "Epoch 24/100\n",
      "51/51 [==============================] - 0s 135us/sample - loss: 0.6847 - acc: 0.6078\n",
      "Epoch 25/100\n",
      "51/51 [==============================] - 0s 60us/sample - loss: 0.6828 - acc: 0.6471\n",
      "Epoch 26/100\n",
      "51/51 [==============================] - 0s 159us/sample - loss: 0.6816 - acc: 0.6863\n",
      "Epoch 27/100\n",
      "51/51 [==============================] - 0s 110us/sample - loss: 0.6801 - acc: 0.7647\n",
      "Epoch 28/100\n",
      "51/51 [==============================] - 0s 90us/sample - loss: 0.6787 - acc: 0.7647\n",
      "Epoch 29/100\n",
      "51/51 [==============================] - 0s 162us/sample - loss: 0.6778 - acc: 0.7843\n",
      "Epoch 30/100\n",
      "51/51 [==============================] - 0s 99us/sample - loss: 0.6769 - acc: 0.8039\n",
      "Epoch 31/100\n",
      "51/51 [==============================] - 0s 197us/sample - loss: 0.6757 - acc: 0.8235\n",
      "Epoch 32/100\n",
      "51/51 [==============================] - 0s 78us/sample - loss: 0.6748 - acc: 0.8235\n",
      "Epoch 33/100\n",
      "51/51 [==============================] - 0s 155us/sample - loss: 0.6738 - acc: 0.8235\n",
      "Epoch 34/100\n",
      "51/51 [==============================] - 0s 125us/sample - loss: 0.6728 - acc: 0.8235\n",
      "Epoch 35/100\n",
      "51/51 [==============================] - 0s 142us/sample - loss: 0.6719 - acc: 0.8235\n",
      "Epoch 36/100\n",
      "51/51 [==============================] - 0s 117us/sample - loss: 0.6709 - acc: 0.8235\n",
      "Epoch 37/100\n",
      "51/51 [==============================] - 0s 121us/sample - loss: 0.6700 - acc: 0.8235\n",
      "Epoch 38/100\n",
      "51/51 [==============================] - 0s 191us/sample - loss: 0.6690 - acc: 0.8235\n",
      "Epoch 39/100\n",
      "51/51 [==============================] - 0s 101us/sample - loss: 0.6681 - acc: 0.8235\n",
      "Epoch 40/100\n",
      "51/51 [==============================] - 0s 108us/sample - loss: 0.6672 - acc: 0.8235\n",
      "Epoch 41/100\n",
      "51/51 [==============================] - 0s 141us/sample - loss: 0.6663 - acc: 0.8235\n",
      "Epoch 42/100\n",
      "51/51 [==============================] - 0s 79us/sample - loss: 0.6653 - acc: 0.8235\n",
      "Epoch 43/100\n",
      "51/51 [==============================] - 0s 154us/sample - loss: 0.6646 - acc: 0.8235\n",
      "Epoch 44/100\n",
      "51/51 [==============================] - 0s 129us/sample - loss: 0.6637 - acc: 0.8235\n",
      "Epoch 45/100\n",
      "51/51 [==============================] - 0s 118us/sample - loss: 0.6628 - acc: 0.8431\n",
      "Epoch 46/100\n",
      "51/51 [==============================] - 0s 144us/sample - loss: 0.6619 - acc: 0.8431\n",
      "Epoch 47/100\n",
      "51/51 [==============================] - 0s 122us/sample - loss: 0.6611 - acc: 0.8431\n",
      "Epoch 48/100\n",
      "51/51 [==============================] - 0s 93us/sample - loss: 0.6603 - acc: 0.8431\n",
      "Epoch 49/100\n",
      "51/51 [==============================] - 0s 169us/sample - loss: 0.6594 - acc: 0.8431\n",
      "Epoch 50/100\n",
      "51/51 [==============================] - 0s 116us/sample - loss: 0.6586 - acc: 0.8235\n",
      "Epoch 51/100\n",
      "51/51 [==============================] - 0s 162us/sample - loss: 0.6578 - acc: 0.8431\n",
      "Epoch 52/100\n",
      "51/51 [==============================] - 0s 96us/sample - loss: 0.6569 - acc: 0.8431\n",
      "Epoch 53/100\n",
      "51/51 [==============================] - 0s 107us/sample - loss: 0.6561 - acc: 0.8431\n",
      "Epoch 54/100\n",
      "51/51 [==============================] - 0s 123us/sample - loss: 0.6554 - acc: 0.8431\n",
      "Epoch 55/100\n",
      "51/51 [==============================] - 0s 112us/sample - loss: 0.6547 - acc: 0.8431\n",
      "Epoch 56/100\n",
      "51/51 [==============================] - 0s 113us/sample - loss: 0.6539 - acc: 0.8431\n",
      "Epoch 57/100\n",
      "51/51 [==============================] - 0s 89us/sample - loss: 0.6531 - acc: 0.8431\n",
      "Epoch 58/100\n",
      "51/51 [==============================] - 0s 125us/sample - loss: 0.6524 - acc: 0.8627\n",
      "Epoch 59/100\n",
      "51/51 [==============================] - 0s 125us/sample - loss: 0.6516 - acc: 0.8627\n",
      "Epoch 60/100\n",
      "51/51 [==============================] - 0s 99us/sample - loss: 0.6509 - acc: 0.8627\n",
      "Epoch 61/100\n",
      "51/51 [==============================] - 0s 149us/sample - loss: 0.6501 - acc: 0.8627\n",
      "Epoch 62/100\n",
      "51/51 [==============================] - 0s 101us/sample - loss: 0.6494 - acc: 0.8627\n",
      "Epoch 63/100\n",
      "51/51 [==============================] - 0s 126us/sample - loss: 0.6487 - acc: 0.8627\n",
      "Epoch 64/100\n",
      "51/51 [==============================] - 0s 90us/sample - loss: 0.6480 - acc: 0.8627\n",
      "Epoch 65/100\n",
      "51/51 [==============================] - 0s 162us/sample - loss: 0.6473 - acc: 0.8627\n",
      "Epoch 66/100\n",
      "51/51 [==============================] - 0s 128us/sample - loss: 0.6466 - acc: 0.8627\n",
      "Epoch 67/100\n",
      "51/51 [==============================] - 0s 113us/sample - loss: 0.6459 - acc: 0.8627\n",
      "Epoch 68/100\n",
      "51/51 [==============================] - 0s 141us/sample - loss: 0.6452 - acc: 0.8627\n",
      "Epoch 69/100\n",
      "51/51 [==============================] - 0s 167us/sample - loss: 0.6445 - acc: 0.8627\n",
      "Epoch 70/100\n",
      "51/51 [==============================] - 0s 83us/sample - loss: 0.6438 - acc: 0.8431\n",
      "Epoch 71/100\n",
      "51/51 [==============================] - 0s 151us/sample - loss: 0.6431 - acc: 0.8431\n",
      "Epoch 72/100\n",
      "51/51 [==============================] - 0s 145us/sample - loss: 0.6425 - acc: 0.8431\n",
      "Epoch 73/100\n",
      "51/51 [==============================] - 0s 106us/sample - loss: 0.6419 - acc: 0.8431\n",
      "Epoch 74/100\n",
      "51/51 [==============================] - 0s 150us/sample - loss: 0.6412 - acc: 0.8431\n",
      "Epoch 75/100\n",
      "51/51 [==============================] - 0s 118us/sample - loss: 0.6405 - acc: 0.8431\n",
      "Epoch 76/100\n",
      "51/51 [==============================] - 0s 126us/sample - loss: 0.6398 - acc: 0.8431\n",
      "Epoch 77/100\n",
      "51/51 [==============================] - 0s 119us/sample - loss: 0.6391 - acc: 0.8431\n",
      "Epoch 78/100\n",
      "51/51 [==============================] - 0s 101us/sample - loss: 0.6385 - acc: 0.8431\n",
      "Epoch 79/100\n",
      "51/51 [==============================] - ETA: 0s - loss: 0.6355 - acc: 0.843 - 0s 170us/sample - loss: 0.6378 - acc: 0.8431\n",
      "Epoch 80/100\n"
     ]
    },
    {
     "name": "stdout",
     "output_type": "stream",
     "text": [
      "51/51 [==============================] - 0s 110us/sample - loss: 0.6371 - acc: 0.8627\n",
      "Epoch 81/100\n",
      "51/51 [==============================] - 0s 107us/sample - loss: 0.6365 - acc: 0.8627\n",
      "Epoch 82/100\n",
      "51/51 [==============================] - 0s 175us/sample - loss: 0.6358 - acc: 0.8627\n",
      "Epoch 83/100\n",
      "51/51 [==============================] - 0s 87us/sample - loss: 0.6351 - acc: 0.8824\n",
      "Epoch 84/100\n",
      "51/51 [==============================] - 0s 171us/sample - loss: 0.6345 - acc: 0.8824\n",
      "Epoch 85/100\n",
      "51/51 [==============================] - 0s 69us/sample - loss: 0.6339 - acc: 0.8824\n",
      "Epoch 86/100\n",
      "51/51 [==============================] - 0s 130us/sample - loss: 0.6331 - acc: 0.8627\n",
      "Epoch 87/100\n",
      "51/51 [==============================] - 0s 100us/sample - loss: 0.6325 - acc: 0.8627\n",
      "Epoch 88/100\n",
      "51/51 [==============================] - 0s 78us/sample - loss: 0.6318 - acc: 0.8627\n",
      "Epoch 89/100\n",
      "51/51 [==============================] - 0s 215us/sample - loss: 0.6312 - acc: 0.8627\n",
      "Epoch 90/100\n",
      "51/51 [==============================] - 0s 128us/sample - loss: 0.6306 - acc: 0.8627\n",
      "Epoch 91/100\n",
      "51/51 [==============================] - 0s 148us/sample - loss: 0.6299 - acc: 0.8627\n",
      "Epoch 92/100\n",
      "51/51 [==============================] - 0s 125us/sample - loss: 0.6293 - acc: 0.8627\n",
      "Epoch 93/100\n",
      "51/51 [==============================] - 0s 137us/sample - loss: 0.6287 - acc: 0.8627\n",
      "Epoch 94/100\n",
      "51/51 [==============================] - 0s 132us/sample - loss: 0.6280 - acc: 0.8627\n",
      "Epoch 95/100\n",
      "51/51 [==============================] - 0s 112us/sample - loss: 0.6273 - acc: 0.8627\n",
      "Epoch 96/100\n",
      "51/51 [==============================] - 0s 112us/sample - loss: 0.6267 - acc: 0.8627\n",
      "Epoch 97/100\n",
      "51/51 [==============================] - 0s 140us/sample - loss: 0.6262 - acc: 0.8627\n",
      "Epoch 98/100\n",
      "51/51 [==============================] - 0s 219us/sample - loss: 0.6254 - acc: 0.8627\n",
      "Epoch 99/100\n",
      "51/51 [==============================] - 0s 187us/sample - loss: 0.6247 - acc: 0.8627\n",
      "Epoch 100/100\n",
      "51/51 [==============================] - 0s 142us/sample - loss: 0.6241 - acc: 0.8627\n"
     ]
    },
    {
     "data": {
      "text/plain": [
       "<tensorflow.python.keras.callbacks.History at 0x222dd657278>"
      ]
     },
     "execution_count": 22,
     "metadata": {},
     "output_type": "execute_result"
    }
   ],
   "source": [
    "ann.fit(x_train, y_train, batch_size=32, epochs=100)"
   ]
  },
  {
   "cell_type": "markdown",
   "metadata": {},
   "source": [
    "# Predict using ANN and test set"
   ]
  },
  {
   "cell_type": "code",
   "execution_count": 23,
   "metadata": {},
   "outputs": [],
   "source": [
    "y_pred = ann.predict(x_test)\n",
    "y_pred = y_pred > 0.5"
   ]
  },
  {
   "cell_type": "code",
   "execution_count": 24,
   "metadata": {},
   "outputs": [
    {
     "name": "stdout",
     "output_type": "stream",
     "text": [
      "[[ True]\n",
      " [ True]\n",
      " [False]\n",
      " [False]\n",
      " [ True]\n",
      " [False]\n",
      " [False]\n",
      " [False]\n",
      " [False]\n",
      " [ True]\n",
      " [ True]\n",
      " [False]\n",
      " [ True]]\n"
     ]
    }
   ],
   "source": [
    "print(y_pred)"
   ]
  },
  {
   "cell_type": "code",
   "execution_count": 25,
   "metadata": {},
   "outputs": [
    {
     "name": "stdout",
     "output_type": "stream",
     "text": [
      "[False  True False False False False False False False False  True False\n",
      "  True]\n"
     ]
    }
   ],
   "source": [
    "y_test = y_test == 1\n",
    "print(y_test)"
   ]
  },
  {
   "cell_type": "code",
   "execution_count": 26,
   "metadata": {},
   "outputs": [
    {
     "name": "stdout",
     "output_type": "stream",
     "text": [
      "13\n",
      "13\n",
      "51\n",
      "51\n"
     ]
    }
   ],
   "source": [
    "print(len(y_test))\n",
    "print(len(y_pred))\n",
    "print(len(x_train))\n",
    "print(len(y_train))"
   ]
  },
  {
   "cell_type": "code",
   "execution_count": 27,
   "metadata": {},
   "outputs": [
    {
     "name": "stdout",
     "output_type": "stream",
     "text": [
      "[[ True False]\n",
      " [ True  True]\n",
      " [False False]\n",
      " [False False]\n",
      " [ True False]\n",
      " [False False]\n",
      " [False False]\n",
      " [False False]\n",
      " [False False]\n",
      " [ True False]\n",
      " [ True  True]\n",
      " [False False]\n",
      " [ True  True]]\n"
     ]
    }
   ],
   "source": [
    "print(np.concatenate((y_pred.reshape(len(y_pred),1), y_test.reshape(len(y_test),1)),1))"
   ]
  },
  {
   "cell_type": "markdown",
   "metadata": {},
   "source": [
    "# Get confusion matrix and accuracy score"
   ]
  },
  {
   "cell_type": "code",
   "execution_count": 28,
   "metadata": {},
   "outputs": [
    {
     "name": "stdout",
     "output_type": "stream",
     "text": [
      "[[7 3]\n",
      " [0 3]]\n"
     ]
    },
    {
     "data": {
      "text/plain": [
       "0.7692307692307693"
      ]
     },
     "execution_count": 28,
     "metadata": {},
     "output_type": "execute_result"
    }
   ],
   "source": [
    "from sklearn.metrics import confusion_matrix, accuracy_score\n",
    "\n",
    "result = confusion_matrix(y_test, y_pred)\n",
    "print(result)\n",
    "accuracy_score(y_test, y_pred)"
   ]
  },
  {
   "cell_type": "code",
   "execution_count": 30,
   "metadata": {},
   "outputs": [
    {
     "data": {
      "image/png": "[encoded data removed]",
      "text/plain": [
       "<Figure size 432x288 with 2 Axes>"
      ]
     },
     "metadata": {},
     "output_type": "display_data"
    }
   ],
   "source": [
    "import seaborn as sn\n",
    "import matplotlib.pyplot as plt\n",
    "\n",
    "%matplotlib inline\n",
    "\n",
    "sn.set(font_scale=1.4) # for label size\n",
    "sn.heatmap(result, annot=True, annot_kws={\"size\": 16}) # font size\n",
    "\n",
    "plt.show()"
   ]
  },
  {
   "cell_type": "code",
   "execution_count": null,
   "metadata": {},
   "outputs": [],
   "source": []
  }
 ],
 "metadata": {
  "kernelspec": {
   "display_name": "Python 3",
   "language": "python",
   "name": "python3"
  },
  "language_info": {
   "codemirror_mode": {
    "name": "ipython",
    "version": 3
   },
   "file_extension": ".py",
   "mimetype": "text/x-python",
   "name": "python",
   "nbconvert_exporter": "python",
   "pygments_lexer": "ipython3",
   "version": "3.7.3"
  }
 },
 "nbformat": 4,
 "nbformat_minor": 2
}
